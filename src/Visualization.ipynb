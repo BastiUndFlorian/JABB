{
 "cells": [
  {
   "cell_type": "code",
   "execution_count": 1,
   "metadata": {},
   "outputs": [],
   "source": [
    "import pandas as pd\n",
    "import math \n",
    "from dataLoader import DataLoader\n",
    "from datetime import datetime\n",
    "\n",
    "from indicators import MovingAverage\n",
    "from portfolio import Portfolio"
   ]
  },
  {
   "cell_type": "code",
   "execution_count": 2,
   "metadata": {},
   "outputs": [
    {
     "output_type": "stream",
     "name": "stdout",
     "text": [
      "creating portfolio\n"
     ]
    }
   ],
   "source": [
    "BTC_50_ma = MovingAverage(window_size = 500)\n",
    "BTC_200_ma = MovingAverage(window_size = 2000)\n",
    "portfolio = Portfolio()"
   ]
  },
  {
   "cell_type": "code",
   "execution_count": 3,
   "metadata": {},
   "outputs": [],
   "source": [
    "\n",
    "def buy_strategy(price, ma50, ma200, portfolio):\n",
    "    diff = 0.97\n",
    "    if diff*(ma50) > ma200:\n",
    "        portfolio.from_asset_to_asset(\"BTC\", \"USD\", portfolio.holding[\"BTC\"])        \n",
    "    if ma50 < diff*(ma200):\n",
    "        portfolio.buy_price = portfolio.price[\"BTC-USD\"]\n",
    "        portfolio.from_asset_to_asset(\"USD\", \"BTC\", portfolio.holding[\"USD\"])\n"
   ]
  },
  {
   "cell_type": "code",
   "execution_count": 4,
   "metadata": {},
   "outputs": [
    {
     "output_type": "stream",
     "name": "stdout",
     "text": [
      "['USD-BTC', 'USD-ETH', 'USD-ZEC', 'BTC-USD', 'BTC-ETH', 'BTC-ZEC', 'ETH-USD', 'ETH-BTC', 'ETH-ZEC', 'ZEC-USD', 'ZEC-BTC', 'ZEC-ETH']\n",
      "loading gemini_BTCUSD_2019_1min.csv\n",
      "loading gemini_BTCUSD_2020_1min.csv\n",
      "loading gemini_ETHUSD_2019_1min.csv\n",
      "loading gemini_ETHUSD_2020_1min.csv\n",
      "loading gemini_ETHBTC_2019_1min.csv\n",
      "loading gemini_ETHBTC_2020_1min.csv\n",
      "loading gemini_ZECUSD_2019_1min.csv\n",
      "loading gemini_ZECUSD_2020_1min.csv\n",
      "loading gemini_ZECBTC_2019_1min.csv\n",
      "loading gemini_ZECBTC_2020_1min.csv\n",
      "loading gemini_ZECETH_2019_1min.csv\n",
      "loading gemini_ZECETH_2020_1min.csv\n"
     ]
    }
   ],
   "source": [
    "dl = DataLoader()\n",
    "data = dl.load_data(datetime(2021, 1, 1),datetime(2021, 12, 31))\n",
    "\n"
   ]
  },
  {
   "cell_type": "code",
   "execution_count": null,
   "metadata": {
    "scrolled": true
   },
   "outputs": [],
   "source": [
    "for time, price in zip(data[\"Unix Timestamp\"], data[\"Close\"]):\n",
    "    if not math.isnan(price):\n",
    "        temp = portfolio.get_eur_value()\n",
    "#         portfolio.update_price(\"BTC\", price)\n",
    "#         BTC_50_ma.update(price)\n",
    "#         BTC_200_ma.update(price)\n",
    "#         buy_strategy(price, BTC_50_ma.get(), BTC_200_ma.get(), portfolio)#\n",
    "#         val = portfolio.get_portfolio_value()\n",
    "        portfolio.update(\"BTC\", price)\n",
    "        val = portfolio.get_eur_value()\n",
    "        if val != temp:\n",
    "            print(\"Timestamp: \", time)\n",
    "            print(\"portfolio value: \", val)\n",
    "            print(portfolio.get_assets())\n",
    "            print(\"Moving Average 200: \", portfolio.ma50[\"BTC\"])\n",
    "            print(\"Moving Average 200: \", portfolio.ma200[\"BTC\"])\n",
    "            print(\"BTC price: \", price)\n",
    "            print(\"\\n\")"
   ]
  },
  {
   "cell_type": "code",
   "execution_count": 5,
   "metadata": {
    "tags": []
   },
   "outputs": [
    {
     "output_type": "stream",
     "name": "stdout",
     "text": [
      "Timestamp:  1609755180\n",
      "{'USD': 0.0, 'BTC': 0.0032809545698256376, 'ETH': 0, 'ZEC': 0}\n",
      "Moving Average 50:  31004.59579999993\n",
      "Moving Average 200:  31976.005749999913\n",
      "BTC price:  30326.54\n",
      "\n",
      "\n",
      "Timestamp:  1610104320\n",
      "{'USD': 135.14247000894267, 'BTC': 0.0, 'ETH': 0, 'ZEC': 0}\n",
      "Moving Average 50:  40534.19720000003\n",
      "Moving Average 200:  39297.8969499996\n",
      "BTC price:  41396.97\n",
      "\n",
      "\n",
      "Timestamp:  1610336220\n",
      "{'USD': 0.0, 'BTC': 0.00400308649247689, 'ETH': 0, 'ZEC': 0}\n",
      "Moving Average 50:  35709.12460000016\n",
      "Moving Average 200:  36825.56974999932\n",
      "BTC price:  33590.77\n",
      "\n",
      "\n",
      "Timestamp:  1610355060\n",
      "{'USD': 141.91722017542284, 'BTC': 0.0, 'ETH': 0, 'ZEC': 0}\n",
      "Moving Average 50:  35363.42340000016\n",
      "Moving Average 200:  34297.05849999937\n",
      "BTC price:  35630.1\n",
      "\n",
      "\n",
      "Timestamp:  1610374020\n",
      "{'USD': 0.0, 'BTC': 0.004370462534426232, 'ETH': 0, 'ZEC': 0}\n",
      "Moving Average 50:  33180.74880000019\n",
      "Moving Average 200:  34212.1052499994\n",
      "BTC price:  32309.54\n",
      "\n",
      "\n",
      "Timestamp:  1610400780\n",
      "{'USD': 148.91285173949862, 'BTC': 0.0, 'ETH': 0, 'ZEC': 0}\n",
      "Moving Average 50:  33566.51040000015\n",
      "Moving Average 200:  32557.05469999937\n",
      "BTC price:  34243.78\n",
      "\n",
      "\n",
      "Timestamp:  1610461200\n",
      "{'USD': 0.0, 'BTC': 0.004413771755013656, 'ETH': 0, 'ZEC': 0}\n",
      "Moving Average 50:  33877.13600000025\n",
      "Moving Average 200:  34931.658949999386\n",
      "BTC price:  33569.54\n",
      "\n",
      "\n",
      "Timestamp:  1611911400\n",
      "{'USD': 159.88512614698337, 'BTC': 0.0, 'ETH': 0, 'ZEC': 0}\n",
      "Moving Average 50:  33915.632199999956\n",
      "Moving Average 200:  32893.20594999946\n",
      "BTC price:  36406.18\n",
      "\n",
      "\n",
      "Timestamp:  1611950700\n",
      "{'USD': 0.0, 'BTC': 0.004668866617075631, 'ETH': 0, 'ZEC': 0}\n",
      "Moving Average 50:  34254.91920000005\n",
      "Moving Average 200:  35317.585799999535\n",
      "BTC price:  34073.73\n",
      "\n",
      "\n",
      "Timestamp:  1612789860\n",
      "{'USD': 196.85015100059124, 'BTC': 0.0, 'ETH': 0, 'ZEC': 0}\n",
      "Moving Average 50:  40967.493599999914\n",
      "Moving Average 200:  39731.558249999485\n",
      "BTC price:  42374.17\n",
      "\n",
      "\n",
      "Timestamp:  1614003780\n",
      "{'USD': 0.0, 'BTC': 0.0038267271282590633, 'ETH': 0, 'ZEC': 0}\n",
      "Moving Average 50:  51881.57220000018\n",
      "Moving Average 200:  53494.43499999974\n",
      "BTC price:  51183.66\n",
      "\n",
      "\n"
     ]
    }
   ],
   "source": [
    "for time, price in zip(data[\"Unix Timestamp\"], data[\"BTC-USD-Close\"]):\n",
    "    if not math.isnan(price):\n",
    "        temp = portfolio.get_eur_value()\n",
    "        portfolio.update_price(\"BTC-USD\", price)\n",
    "        portfolio.update_price(\"USD-BTC\", 1/price)\n",
    "        BTC_50_ma.update(price)\n",
    "        BTC_200_ma.update(price)\n",
    "        buy_strategy(price, BTC_50_ma.get(), BTC_200_ma.get(), portfolio)\n",
    "        val = portfolio.get_eur_value()\n",
    "        if temp != val:\n",
    "            print(\"Timestamp: \", time)\n",
    "            print(portfolio.get_assets())\n",
    "            print(\"Moving Average 50: \", BTC_50_ma.get())\n",
    "            print(\"Moving Average 200: \", BTC_200_ma.get())\n",
    "            print(\"BTC price: \", price)\n",
    "            print(\"\\n\")"
   ]
  },
  {
   "cell_type": "code",
   "execution_count": 14,
   "metadata": {},
   "outputs": [
    {
     "output_type": "execute_result",
     "data": {
      "text/plain": [
       "       Unix Timestamp  BTC-USD-Close  USD-BTC-Close  ETH-USD-Close  \\\n",
       "483825     1546300800        3695.00       0.000271          130.0   \n",
       "483824     1546300860        3689.67       0.000271          130.0   \n",
       "483823     1546300920        3689.50       0.000271          130.0   \n",
       "483822     1546300980        3691.21       0.000271          130.0   \n",
       "483821     1546301040        3691.21       0.000271          130.0   \n",
       "\n",
       "        USD-ETH-Close  ETH-BTC-Close  BTC-ETH-Close  ZEC-USD-Close  \\\n",
       "483825       0.007692        0.03532      28.312571          55.03   \n",
       "483824       0.007692        0.03532      28.312571          55.03   \n",
       "483823       0.007692        0.03532      28.312571          55.03   \n",
       "483822       0.007692        0.03547      28.192839          55.03   \n",
       "483821       0.007692        0.03547      28.192839          55.03   \n",
       "\n",
       "        USD-ZEC-Close  ZEC-BTC-Close  BTC-ZEC-Close  ZEC-ETH-Close  \\\n",
       "483825       0.018172        0.01501      66.622252          0.434   \n",
       "483824       0.018172        0.01501      66.622252          0.434   \n",
       "483823       0.018172        0.01501      66.622252          0.434   \n",
       "483822       0.018172        0.01501      66.622252          0.434   \n",
       "483821       0.018172        0.01501      66.622252          0.434   \n",
       "\n",
       "        ETH-ZEC-Close  \n",
       "483825       2.304147  \n",
       "483824       2.304147  \n",
       "483823       2.304147  \n",
       "483822       2.304147  \n",
       "483821       2.304147  "
      ],
      "text/html": "<div>\n<style scoped>\n    .dataframe tbody tr th:only-of-type {\n        vertical-align: middle;\n    }\n\n    .dataframe tbody tr th {\n        vertical-align: top;\n    }\n\n    .dataframe thead th {\n        text-align: right;\n    }\n</style>\n<table border=\"1\" class=\"dataframe\">\n  <thead>\n    <tr style=\"text-align: right;\">\n      <th></th>\n      <th>Unix Timestamp</th>\n      <th>BTC-USD-Close</th>\n      <th>USD-BTC-Close</th>\n      <th>ETH-USD-Close</th>\n      <th>USD-ETH-Close</th>\n      <th>ETH-BTC-Close</th>\n      <th>BTC-ETH-Close</th>\n      <th>ZEC-USD-Close</th>\n      <th>USD-ZEC-Close</th>\n      <th>ZEC-BTC-Close</th>\n      <th>BTC-ZEC-Close</th>\n      <th>ZEC-ETH-Close</th>\n      <th>ETH-ZEC-Close</th>\n    </tr>\n  </thead>\n  <tbody>\n    <tr>\n      <th>483825</th>\n      <td>1546300800</td>\n      <td>3695.00</td>\n      <td>0.000271</td>\n      <td>130.0</td>\n      <td>0.007692</td>\n      <td>0.03532</td>\n      <td>28.312571</td>\n      <td>55.03</td>\n      <td>0.018172</td>\n      <td>0.01501</td>\n      <td>66.622252</td>\n      <td>0.434</td>\n      <td>2.304147</td>\n    </tr>\n    <tr>\n      <th>483824</th>\n      <td>1546300860</td>\n      <td>3689.67</td>\n      <td>0.000271</td>\n      <td>130.0</td>\n      <td>0.007692</td>\n      <td>0.03532</td>\n      <td>28.312571</td>\n      <td>55.03</td>\n      <td>0.018172</td>\n      <td>0.01501</td>\n      <td>66.622252</td>\n      <td>0.434</td>\n      <td>2.304147</td>\n    </tr>\n    <tr>\n      <th>483823</th>\n      <td>1546300920</td>\n      <td>3689.50</td>\n      <td>0.000271</td>\n      <td>130.0</td>\n      <td>0.007692</td>\n      <td>0.03532</td>\n      <td>28.312571</td>\n      <td>55.03</td>\n      <td>0.018172</td>\n      <td>0.01501</td>\n      <td>66.622252</td>\n      <td>0.434</td>\n      <td>2.304147</td>\n    </tr>\n    <tr>\n      <th>483822</th>\n      <td>1546300980</td>\n      <td>3691.21</td>\n      <td>0.000271</td>\n      <td>130.0</td>\n      <td>0.007692</td>\n      <td>0.03547</td>\n      <td>28.192839</td>\n      <td>55.03</td>\n      <td>0.018172</td>\n      <td>0.01501</td>\n      <td>66.622252</td>\n      <td>0.434</td>\n      <td>2.304147</td>\n    </tr>\n    <tr>\n      <th>483821</th>\n      <td>1546301040</td>\n      <td>3691.21</td>\n      <td>0.000271</td>\n      <td>130.0</td>\n      <td>0.007692</td>\n      <td>0.03547</td>\n      <td>28.192839</td>\n      <td>55.03</td>\n      <td>0.018172</td>\n      <td>0.01501</td>\n      <td>66.622252</td>\n      <td>0.434</td>\n      <td>2.304147</td>\n    </tr>\n  </tbody>\n</table>\n</div>"
     },
     "metadata": {},
     "execution_count": 14
    }
   ],
   "source": [
    "data.head()\n"
   ]
  },
  {
   "cell_type": "code",
   "execution_count": null,
   "metadata": {},
   "outputs": [],
   "source": []
  }
 ],
 "metadata": {
  "kernelspec": {
   "display_name": "Python 3",
   "language": "python",
   "name": "python3"
  },
  "language_info": {
   "codemirror_mode": {
    "name": "ipython",
    "version": 3
   },
   "file_extension": ".py",
   "mimetype": "text/x-python",
   "name": "python",
   "nbconvert_exporter": "python",
   "pygments_lexer": "ipython3",
   "version": "3.7.6"
  }
 },
 "nbformat": 4,
 "nbformat_minor": 4
}