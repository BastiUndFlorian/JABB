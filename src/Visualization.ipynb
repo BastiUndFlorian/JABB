{
 "cells": [
  {
   "cell_type": "code",
   "execution_count": 1,
   "metadata": {},
   "outputs": [],
   "source": [
    "import pandas as pd\n",
    "import math \n",
    "from dataLoader import DataLoader\n",
    "from datetime import datetime\n",
    "\n",
    "from indicators import MovingAverage\n",
    "from portfolio import Portfolio\n",
    "import itertools"
   ]
  },
  {
   "cell_type": "code",
   "execution_count": 2,
   "metadata": {},
   "outputs": [
    {
     "output_type": "stream",
     "name": "stdout",
     "text": [
      "['USD-BTC', 'USD-ETH', 'USD-ZEC', 'BTC-USD', 'BTC-ETH', 'BTC-ZEC', 'ETH-USD', 'ETH-BTC', 'ETH-ZEC', 'ZEC-USD', 'ZEC-BTC', 'ZEC-ETH']\n",
      "loading gemini_BTCUSD_2019_1min.csv\n",
      "loading gemini_BTCUSD_2020_1min.csv\n",
      "loading gemini_ETHUSD_2019_1min.csv\n",
      "loading gemini_ETHUSD_2020_1min.csv\n",
      "loading gemini_ETHBTC_2019_1min.csv\n",
      "loading gemini_ETHBTC_2020_1min.csv\n",
      "loading gemini_ZECUSD_2019_1min.csv\n",
      "loading gemini_ZECUSD_2020_1min.csv\n",
      "loading gemini_ZECBTC_2019_1min.csv\n",
      "loading gemini_ZECBTC_2020_1min.csv\n",
      "loading gemini_ZECETH_2019_1min.csv\n",
      "loading gemini_ZECETH_2020_1min.csv\n"
     ]
    }
   ],
   "source": [
    "dl = DataLoader()"
   ]
  },
  {
   "cell_type": "code",
   "execution_count": 5,
   "metadata": {},
   "outputs": [],
   "source": [
    "\n",
    "def buy_strategy(from_asset,to_asset, ma50, ma200, portfolio):\n",
    "    diff = 0.97     \n",
    "    if diff*ma50 > (ma200):\n",
    "        portfolio.buy_price = portfolio.prices[from_asset+ \"-\" + to_asset]\n",
    "        portfolio.from_asset_to_asset(from_asset,to_asset, portfolio.holding[from_asset])\n",
    "    # TODO BTC, ETH only loose for 2021\n"
   ]
  },
  {
   "cell_type": "code",
   "execution_count": 6,
   "metadata": {
    "tags": []
   },
   "outputs": [
    {
     "output_type": "stream",
     "name": "stdout",
     "text": [
      "creating portfolio\n",
      "{'USD': 100, 'BTC': 0, 'ETH': 0, 'ZEC': 0}\n",
      "\n",
      "\n",
      "592999\n",
      "USD-ZEC Timestamp:  2020-01-15 04:31:00\n",
      "{'USD': 0.0, 'BTC': 0.0, 'ETH': 0.0, 'ZEC': 2.054087530966144}\n",
      "0.01928168277669132\n",
      "0.019892868081483495\n",
      "Portfolio Value: 98.96593724194881\n"
     ]
    },
    {
     "output_type": "error",
     "ename": "AttributeError",
     "evalue": "'Portfolio' object has no attribute 'price'",
     "traceback": [
      "\u001b[1;31m---------------------------------------------------------------------------\u001b[0m",
      "\u001b[1;31mAttributeError\u001b[0m                            Traceback (most recent call last)",
      "\u001b[1;32m<ipython-input-6-f7a02ec5167a>\u001b[0m in \u001b[0;36m<module>\u001b[1;34m\u001b[0m\n\u001b[0;32m     45\u001b[0m \u001b[1;33m\u001b[0m\u001b[0m\n\u001b[0;32m     46\u001b[0m \u001b[1;33m\u001b[0m\u001b[0m\n\u001b[1;32m---> 47\u001b[1;33m \u001b[0mmain\u001b[0m\u001b[1;33m(\u001b[0m\u001b[1;33m)\u001b[0m\u001b[1;33m\u001b[0m\u001b[1;33m\u001b[0m\u001b[0m\n\u001b[0m\u001b[0;32m     48\u001b[0m \u001b[0mprint\u001b[0m\u001b[1;33m(\u001b[0m\u001b[1;34m\"finished\"\u001b[0m\u001b[1;33m)\u001b[0m\u001b[1;33m\u001b[0m\u001b[1;33m\u001b[0m\u001b[0m\n",
      "\u001b[1;32m<ipython-input-6-f7a02ec5167a>\u001b[0m in \u001b[0;36mmain\u001b[1;34m()\u001b[0m\n\u001b[0;32m     38\u001b[0m                         \u001b[0mprint\u001b[0m\u001b[1;33m(\u001b[0m\u001b[0mma_50\u001b[0m\u001b[1;33m[\u001b[0m\u001b[0mfrom_asset\u001b[0m \u001b[1;33m+\u001b[0m \u001b[1;34m\"-\"\u001b[0m \u001b[1;33m+\u001b[0m \u001b[0mto_asset\u001b[0m\u001b[1;33m]\u001b[0m\u001b[1;33m.\u001b[0m\u001b[0mget\u001b[0m\u001b[1;33m(\u001b[0m\u001b[1;33m)\u001b[0m\u001b[1;33m)\u001b[0m\u001b[1;33m\u001b[0m\u001b[1;33m\u001b[0m\u001b[0m\n\u001b[0;32m     39\u001b[0m                         \u001b[0mprint\u001b[0m\u001b[1;33m(\u001b[0m\u001b[1;34m\"Portfolio Value:\"\u001b[0m\u001b[1;33m,\u001b[0m\u001b[0mportfolio\u001b[0m\u001b[1;33m.\u001b[0m\u001b[0mget_portfolio_value\u001b[0m\u001b[1;33m(\u001b[0m\u001b[1;33m)\u001b[0m\u001b[1;33m)\u001b[0m\u001b[1;33m\u001b[0m\u001b[1;33m\u001b[0m\u001b[0m\n\u001b[1;32m---> 40\u001b[1;33m                         \u001b[0mprint\u001b[0m\u001b[1;33m(\u001b[0m\u001b[1;34m\"Portfolio Value:\"\u001b[0m\u001b[1;33m,\u001b[0m\u001b[0mportfolio\u001b[0m\u001b[1;33m.\u001b[0m\u001b[0mprice\u001b[0m\u001b[1;33m)\u001b[0m\u001b[1;33m\u001b[0m\u001b[1;33m\u001b[0m\u001b[0m\n\u001b[0m\u001b[0;32m     41\u001b[0m                         \u001b[0mprint\u001b[0m\u001b[1;33m(\u001b[0m\u001b[1;34m\"\\n\"\u001b[0m\u001b[1;33m)\u001b[0m\u001b[1;33m\u001b[0m\u001b[1;33m\u001b[0m\u001b[0m\n\u001b[0;32m     42\u001b[0m \u001b[1;33m\u001b[0m\u001b[0m\n",
      "\u001b[1;31mAttributeError\u001b[0m: 'Portfolio' object has no attribute 'price'"
     ]
    }
   ],
   "source": [
    "\n",
    "def main():\n",
    "    currencies = [\"USD\",\"BTC\",\"ETH\",\"ZEC\"]\n",
    "\n",
    "    data = dl.load_data(datetime(2020, 1, 1),datetime(2021, 12, 1))\n",
    "    \n",
    "\n",
    "    ma_200 = {}\n",
    "    ma_50 = {}\n",
    "\n",
    "    for key in [i + \"-\" + j for (i,j) in itertools.product(currencies,currencies) if i != j]:\n",
    "        ma_200[key] = MovingAverage(window_size = 200)\n",
    "        ma_50[key] = MovingAverage(window_size = 50)\n",
    "    portfolio = Portfolio()\n",
    "\n",
    "\n",
    "    count = 0\n",
    "\n",
    "    print(portfolio.get_assets())\n",
    "    print(\"\\n\")\n",
    "    for index,row in data.iterrows():\n",
    "        for (from_asset,to_asset) in itertools.product(currencies,currencies):\n",
    "            if from_asset != to_asset:\n",
    "                price = row[from_asset + \"-\" + to_asset + \"-Close\"]\n",
    "                if not math.isnan(price):\n",
    "                    temp = sum(portfolio.get_assets().values())\n",
    "                    portfolio.update_price(from_asset + \"-\" + to_asset, price)\n",
    "                    ma_200[from_asset + \"-\" + to_asset].update(price)\n",
    "                    ma_50[from_asset + \"-\" + to_asset].update(price)\n",
    "                    if count > 200:\n",
    "                        buy_strategy(from_asset,to_asset,ma_50[from_asset + \"-\" + to_asset].get(), ma_200[from_asset + \"-\" + to_asset].get(), portfolio)\n",
    "                    val = sum(portfolio.get_assets().values())\n",
    "                    if temp != val:\n",
    "                        \n",
    "                        print(index)\n",
    "                        print(from_asset + \"-\" + to_asset ,\"Timestamp: \",datetime.utcfromtimestamp(row[\"Unix Timestamp\"]).strftime('%Y-%m-%d %H:%M:%S'))\n",
    "                        print(portfolio.get_assets())\n",
    "                        print(ma_200[from_asset + \"-\" + to_asset].get())\n",
    "                        print(ma_50[from_asset + \"-\" + to_asset].get())\n",
    "                        print(\"Portfolio Value:\",portfolio.get_portfolio_value())\n",
    "                        print(\"Portfolio Value:\",portfolio.prices)\n",
    "                        print(\"\\n\")\n",
    "\n",
    "\n",
    "        count += 1\n",
    "\n",
    "\n",
    "main()\n",
    "print(\"finished\")\n"
   ]
  },
  {
   "cell_type": "code",
   "execution_count": null,
   "metadata": {},
   "outputs": [],
   "source": [
    "data.head()\n"
   ]
  },
  {
   "cell_type": "code",
   "execution_count": null,
   "metadata": {},
   "outputs": [],
   "source": []
  }
 ],
 "metadata": {
  "kernelspec": {
   "name": "python376jvsc74a57bd034828f98895cbec32ddd911f930c6e147ce0e0de532093f9135cb16371e9db6c",
   "display_name": "Python 3.7.6 64-bit ('base': conda)"
  },
  "language_info": {
   "codemirror_mode": {
    "name": "ipython",
    "version": 3
   },
   "file_extension": ".py",
   "mimetype": "text/x-python",
   "name": "python",
   "nbconvert_exporter": "python",
   "pygments_lexer": "ipython3",
   "version": "3.7.6"
  }
 },
 "nbformat": 4,
 "nbformat_minor": 4
}