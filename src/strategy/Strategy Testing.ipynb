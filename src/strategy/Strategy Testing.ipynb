{
 "cells": [
  {
   "cell_type": "code",
   "execution_count": 10,
   "metadata": {},
   "outputs": [
    {
     "name": "stdout",
     "output_type": "stream",
     "text": [
      "The autoreload extension is already loaded. To reload it, use:\n",
      "  %reload_ext autoreload\n"
     ]
    }
   ],
   "source": [
    "import pandas as pd\n",
    "import math \n",
    "from datetime import datetime\n",
    "import itertools\n",
    "import time\n",
    "\n",
    "%load_ext autoreload\n",
    "%autoreload 2"
   ]
  },
  {
   "cell_type": "code",
   "execution_count": 11,
   "metadata": {},
   "outputs": [],
   "source": [
    "import sys\n",
    "# sys.path is a list of absolute path strings\n",
    "sys.path.append(R'C:\\Users\\spatz\\OneDrive\\Documents\\Projects\\Python Stuff\\JABB\\src')\n",
    "\n",
    "from dataLoader import DataLoader\n",
    "from portfolio import Portfolio"
   ]
  },
  {
   "cell_type": "code",
   "execution_count": 12,
   "metadata": {},
   "outputs": [
    {
     "name": "stdout",
     "output_type": "stream",
     "text": [
      "['USD-BTC', 'USD-ETH', 'USD-ZEC', 'BTC-USD', 'BTC-ETH', 'BTC-ZEC', 'ETH-USD', 'ETH-BTC', 'ETH-ZEC', 'ZEC-USD', 'ZEC-BTC', 'ZEC-ETH']\n",
      "loading gemini_BTCUSD_2018_1min.csv\n",
      "loading gemini_BTCUSD_2019_1min.csv\n",
      "loading gemini_BTCUSD_2020_1min.csv\n",
      "loading gemini_ETHUSD_2018_1min.csv\n",
      "loading gemini_ETHUSD_2019_1min.csv\n",
      "loading gemini_ETHUSD_2020_1min.csv\n",
      "loading gemini_ETHBTC_2018_1min.csv\n",
      "loading gemini_ETHBTC_2019_1min.csv\n",
      "loading gemini_ETHBTC_2020_1min.csv\n",
      "loading gemini_ZECUSD_2018_1min.csv\n",
      "loading gemini_ZECUSD_2019_1min.csv\n",
      "loading gemini_ZECUSD_2020_1min.csv\n",
      "loading gemini_ZECBTC_2018_1min.csv\n",
      "loading gemini_ZECBTC_2019_1min.csv\n",
      "loading gemini_ZECBTC_2020_1min.csv\n",
      "loading gemini_ZECETH_2018_1min.csv\n",
      "loading gemini_ZECETH_2019_1min.csv\n",
      "loading gemini_ZECETH_2020_1min.csv\n"
     ]
    }
   ],
   "source": [
    "dl = DataLoader()"
   ]
  },
  {
   "cell_type": "code",
   "execution_count": 15,
   "metadata": {},
   "outputs": [
    {
     "name": "stdout",
     "output_type": "stream",
     "text": [
      "creating portfolio\n",
      "Creating strategy..\n",
      "['USD-BTC', 'BTC-USD']\n",
      "{'USD-BTC': [<indicators.SimpleMovingAverage object at 0x00000223361CD808>, <indicators.SimpleMovingAverage object at 0x00000223361CD8C8>], 'BTC-USD': [<indicators.SimpleMovingAverage object at 0x00000223361CD688>, <indicators.SimpleMovingAverage object at 0x00000223361CDA88>]}\n"
     ]
    }
   ],
   "source": [
    "from runner import Runner\n",
    "from new_strategy import MovingAverageStrategy\n",
    "\n",
    "data = dl.load_data(datetime(2018, 1, 1),datetime(2018, 12, 1))\n",
    "currency_list = [\"USD\",\"BTC\"]#,\"ETH\",\"ZEC\"]\n",
    "\n",
    "pf = Portfolio()\n",
    "ma_strat = MovingAverageStrategy(pf, currency_list)\n",
    "\n",
    "runner = Runner(strategy=ma_strat, warmup_len=200, data=data)"
   ]
  },
  {
   "cell_type": "code",
   "execution_count": 16,
   "metadata": {
    "scrolled": true
   },
   "outputs": [
    {
     "name": "stdout",
     "output_type": "stream",
     "text": [
      "****************************\n",
      "Timestamp: 2018-09-06 00:29:00\n",
      "\n",
      "Selling USD\n",
      "Buying BTC\n",
      "at Price: 6305.96\n",
      "\n",
      "Portfolio assets:\n",
      "{'USD': 0.0, 'BTC': 0.01577871, 'ETH': 0.0, 'ZEC': 0.0}\n",
      "\n",
      "\n",
      "Portfolio overall value:\n",
      "99.4999141116\n",
      "\n",
      "\n",
      "****************************\n",
      "Timestamp: 2018-10-15 06:32:00\n",
      "\n",
      "Selling BTC\n",
      "Buying USD\n",
      "at Price: 0.00015146\n",
      "\n",
      "Portfolio assets:\n",
      "{'USD': 103.6537991606835, 'BTC': 0.0, 'ETH': 0.0, 'ZEC': 0.0}\n",
      "\n",
      "\n",
      "Portfolio overall value:\n",
      "103.6537991606835\n",
      "\n",
      "\n",
      "****************************\n",
      "Timestamp: 2018-11-14 16:38:00\n",
      "\n",
      "Selling USD\n",
      "Buying BTC\n",
      "at Price: 5673.08\n",
      "\n",
      "Portfolio assets:\n",
      "{'USD': 0.0, 'BTC': 0.018179699902163414, 'ETH': 0.0, 'ZEC': 0.0}\n",
      "\n",
      "\n",
      "Portfolio overall value:\n",
      "103.13489192096522\n",
      "\n",
      "\n"
     ]
    }
   ],
   "source": [
    "runner.run()"
   ]
  },
  {
   "cell_type": "code",
   "execution_count": 9,
   "metadata": {
    "scrolled": true
   },
   "outputs": [
    {
     "name": "stdout",
     "output_type": "stream",
     "text": [
      "creating portfolio\n",
      "Creating strategy..\n",
      "Running..\n",
      "****************************\n",
      "Timestamp: 2020-01-15 04:31:00\n",
      "\n",
      "Selling USD\n",
      "Buying ZEC\n",
      "at Price: 0.0206441\n",
      "\n",
      "Portfolio assets:\n",
      "{'USD': 0, 'BTC': 0.0, 'ETH': 0.0, 'ZEC': 2.0540879499999996}\n",
      "\n",
      "\n",
      "Portfolio overall value:\n",
      "99.50002029799997\n",
      "\n",
      "\n"
     ]
    },
    {
     "ename": "NameError",
     "evalue": "name 'product_id' is not defined",
     "output_type": "error",
     "traceback": [
      "\u001b[1;31m---------------------------------------------------------------------------\u001b[0m",
      "\u001b[1;31mNameError\u001b[0m                                 Traceback (most recent call last)",
      "\u001b[1;32m<ipython-input-9-40932aeb0e56>\u001b[0m in \u001b[0;36m<module>\u001b[1;34m\u001b[0m\n\u001b[0;32m      9\u001b[0m \u001b[1;33m\u001b[0m\u001b[0m\n\u001b[0;32m     10\u001b[0m \u001b[0mMAStrat\u001b[0m \u001b[1;33m=\u001b[0m \u001b[0mMovingAverageStrategy\u001b[0m\u001b[1;33m(\u001b[0m\u001b[0mportfolio\u001b[0m\u001b[1;33m,\u001b[0m \u001b[1;32mTrue\u001b[0m\u001b[1;33m,\u001b[0m \u001b[0mproduct_ids\u001b[0m\u001b[1;33m,\u001b[0m \u001b[0mdata\u001b[0m\u001b[1;33m)\u001b[0m\u001b[1;33m\u001b[0m\u001b[1;33m\u001b[0m\u001b[0m\n\u001b[1;32m---> 11\u001b[1;33m \u001b[0mMAStrat\u001b[0m\u001b[1;33m.\u001b[0m\u001b[0mrun\u001b[0m\u001b[1;33m(\u001b[0m\u001b[1;36m200\u001b[0m\u001b[1;33m)\u001b[0m\u001b[1;33m\u001b[0m\u001b[1;33m\u001b[0m\u001b[0m\n\u001b[0m\u001b[0;32m     12\u001b[0m \u001b[1;31m# run_strategy(portfolio, MAStrat, data, currencies, 200)\u001b[0m\u001b[1;33m\u001b[0m\u001b[1;33m\u001b[0m\u001b[1;33m\u001b[0m\u001b[0m\n",
      "\u001b[1;32m~\\OneDrive\\Documents\\Projects\\Python Stuff\\JABB\\src\\strategy\\strategy.py\u001b[0m in \u001b[0;36mrun\u001b[1;34m(self, warmup_len)\u001b[0m\n\u001b[0;32m     52\u001b[0m                                         \u001b[1;32mif\u001b[0m \u001b[0mcount\u001b[0m \u001b[1;33m>=\u001b[0m \u001b[0mwarmup_len\u001b[0m\u001b[1;33m:\u001b[0m\u001b[1;33m\u001b[0m\u001b[1;33m\u001b[0m\u001b[0m\n\u001b[0;32m     53\u001b[0m                                                 \u001b[0mcandle\u001b[0m \u001b[1;33m=\u001b[0m \u001b[0mrow\u001b[0m\u001b[1;33m[\u001b[0m\u001b[0mproduct_id\u001b[0m \u001b[1;33m+\u001b[0m \u001b[1;34m\"-Close\"\u001b[0m\u001b[1;33m]\u001b[0m\u001b[1;33m\u001b[0m\u001b[1;33m\u001b[0m\u001b[0m\n\u001b[1;32m---> 54\u001b[1;33m                                                 \u001b[0mself\u001b[0m\u001b[1;33m.\u001b[0m\u001b[0mon_data\u001b[0m\u001b[1;33m(\u001b[0m\u001b[0mtimestamp\u001b[0m\u001b[1;33m,\u001b[0m \u001b[0mcandle\u001b[0m\u001b[1;33m,\u001b[0m \u001b[0mproduct_id\u001b[0m\u001b[1;33m)\u001b[0m\u001b[1;33m\u001b[0m\u001b[1;33m\u001b[0m\u001b[0m\n\u001b[0m\u001b[0;32m     55\u001b[0m                                 \u001b[0mcount\u001b[0m \u001b[1;33m+=\u001b[0m \u001b[1;36m1\u001b[0m\u001b[1;33m\u001b[0m\u001b[1;33m\u001b[0m\u001b[0m\n\u001b[0;32m     56\u001b[0m                 \u001b[1;32melse\u001b[0m\u001b[1;33m:\u001b[0m\u001b[1;33m\u001b[0m\u001b[1;33m\u001b[0m\u001b[0m\n",
      "\u001b[1;32m~\\OneDrive\\Documents\\Projects\\Python Stuff\\JABB\\src\\strategy\\moving_average_strategy.py\u001b[0m in \u001b[0;36mon_data\u001b[1;34m(self, tme_stamp, candle, product_id)\u001b[0m\n\u001b[0;32m     33\u001b[0m                         \u001b[0mself\u001b[0m\u001b[1;33m.\u001b[0m\u001b[0mbuy\u001b[0m\u001b[1;33m(\u001b[0m\u001b[0mtme_stamp\u001b[0m\u001b[1;33m,\u001b[0m \u001b[0mcandle\u001b[0m\u001b[1;33m,\u001b[0m \u001b[0massets\u001b[0m\u001b[1;33m[\u001b[0m\u001b[1;36m0\u001b[0m\u001b[1;33m]\u001b[0m\u001b[1;33m,\u001b[0m \u001b[0massets\u001b[0m\u001b[1;33m[\u001b[0m\u001b[1;36m1\u001b[0m\u001b[1;33m]\u001b[0m\u001b[1;33m,\u001b[0m \u001b[0mself\u001b[0m\u001b[1;33m.\u001b[0m\u001b[0mportfolio\u001b[0m\u001b[1;33m.\u001b[0m\u001b[0mholding\u001b[0m\u001b[1;33m[\u001b[0m\u001b[0massets\u001b[0m\u001b[1;33m[\u001b[0m\u001b[1;36m0\u001b[0m\u001b[1;33m]\u001b[0m\u001b[1;33m]\u001b[0m\u001b[1;33m)\u001b[0m\u001b[1;33m\u001b[0m\u001b[1;33m\u001b[0m\u001b[0m\n\u001b[0;32m     34\u001b[0m                 \u001b[1;32melif\u001b[0m \u001b[0msell_condition\u001b[0m\u001b[1;33m:\u001b[0m\u001b[1;33m\u001b[0m\u001b[1;33m\u001b[0m\u001b[0m\n\u001b[1;32m---> 35\u001b[1;33m                         \u001b[0mself\u001b[0m\u001b[1;33m.\u001b[0m\u001b[0mbuy\u001b[0m\u001b[1;33m(\u001b[0m\u001b[0mtme_stamp\u001b[0m\u001b[1;33m,\u001b[0m \u001b[0mcandle\u001b[0m\u001b[1;33m,\u001b[0m \u001b[0massets\u001b[0m\u001b[1;33m[\u001b[0m\u001b[1;36m1\u001b[0m\u001b[1;33m]\u001b[0m\u001b[1;33m,\u001b[0m \u001b[0massets\u001b[0m\u001b[1;33m[\u001b[0m\u001b[1;36m0\u001b[0m\u001b[1;33m]\u001b[0m\u001b[1;33m,\u001b[0m \u001b[0mself\u001b[0m\u001b[1;33m.\u001b[0m\u001b[0mportfolio\u001b[0m\u001b[1;33m.\u001b[0m\u001b[0mholding\u001b[0m\u001b[1;33m[\u001b[0m\u001b[0massets\u001b[0m\u001b[1;33m[\u001b[0m\u001b[1;36m1\u001b[0m\u001b[1;33m]\u001b[0m\u001b[1;33m]\u001b[0m\u001b[1;33m)\u001b[0m\u001b[1;33m\u001b[0m\u001b[1;33m\u001b[0m\u001b[0m\n\u001b[0m\u001b[0;32m     36\u001b[0m                 \u001b[1;32melse\u001b[0m\u001b[1;33m:\u001b[0m\u001b[1;33m\u001b[0m\u001b[1;33m\u001b[0m\u001b[0m\n\u001b[0;32m     37\u001b[0m                         \u001b[1;32mpass\u001b[0m\u001b[1;33m\u001b[0m\u001b[1;33m\u001b[0m\u001b[0m\n",
      "\u001b[1;32m~\\OneDrive\\Documents\\Projects\\Python Stuff\\JABB\\src\\strategy\\strategy.py\u001b[0m in \u001b[0;36mbuy\u001b[1;34m(self, tme_stamp, candle, selling_asset, buying_asset, amount)\u001b[0m\n\u001b[0;32m     94\u001b[0m                         \u001b[0mprint\u001b[0m\u001b[1;33m(\u001b[0m\u001b[0mself\u001b[0m\u001b[1;33m.\u001b[0m\u001b[0mportfolio\u001b[0m\u001b[1;33m.\u001b[0m\u001b[0mget_portfolio_value\u001b[0m\u001b[1;33m(\u001b[0m\u001b[1;33m)\u001b[0m\u001b[1;33m)\u001b[0m\u001b[1;33m\u001b[0m\u001b[1;33m\u001b[0m\u001b[0m\n\u001b[0;32m     95\u001b[0m                         \u001b[0mprint\u001b[0m\u001b[1;33m(\u001b[0m\u001b[1;34m\"\\n\"\u001b[0m\u001b[1;33m)\u001b[0m\u001b[1;33m\u001b[0m\u001b[1;33m\u001b[0m\u001b[0m\n\u001b[1;32m---> 96\u001b[1;33m                         \u001b[0mprint\u001b[0m\u001b[1;33m(\u001b[0m\u001b[0mself\u001b[0m\u001b[1;33m.\u001b[0m\u001b[0mbuy_signals\u001b[0m\u001b[1;33m[\u001b[0m\u001b[0mproduct_id\u001b[0m\u001b[1;33m]\u001b[0m\u001b[1;33m.\u001b[0m\u001b[0mshort_ma\u001b[0m\u001b[1;33m.\u001b[0m\u001b[0mget\u001b[0m\u001b[1;33m(\u001b[0m\u001b[1;33m)\u001b[0m\u001b[1;33m)\u001b[0m\u001b[1;33m\u001b[0m\u001b[1;33m\u001b[0m\u001b[0m\n\u001b[0m\u001b[0;32m     97\u001b[0m                         \u001b[0mprint\u001b[0m\u001b[1;33m(\u001b[0m\u001b[0mself\u001b[0m\u001b[1;33m.\u001b[0m\u001b[0mbuy_signals\u001b[0m\u001b[1;33m[\u001b[0m\u001b[0mproduct_id\u001b[0m\u001b[1;33m]\u001b[0m\u001b[1;33m.\u001b[0m\u001b[0mlong_ma\u001b[0m\u001b[1;33m.\u001b[0m\u001b[0mget\u001b[0m\u001b[1;33m(\u001b[0m\u001b[1;33m)\u001b[0m\u001b[1;33m)\u001b[0m\u001b[1;33m\u001b[0m\u001b[1;33m\u001b[0m\u001b[0m\n\u001b[0;32m     98\u001b[0m                         \u001b[0mprint\u001b[0m\u001b[1;33m(\u001b[0m\u001b[1;34m\"\\n\"\u001b[0m\u001b[1;33m)\u001b[0m\u001b[1;33m\u001b[0m\u001b[1;33m\u001b[0m\u001b[0m\n",
      "\u001b[1;31mNameError\u001b[0m: name 'product_id' is not defined"
     ]
    }
   ],
   "source": [
    "## MA strategy\n",
    "from moving_average_strategy import MovingAverageStrategy\n",
    "\n",
    "currencies = [\"USD\", \"BTC\", \"ETH\", \"ZEC\"]\n",
    "product_ids = [\"BTC-USD\", \"ETH-USD\", \"ZEC-USD\", \"ETH-BTC\", \"ZEC-BTC\", \"ZEC-ETH\"]\n",
    "data = dl.load_data(datetime(2020, 1, 1),datetime(2021, 12, 1))\n",
    "\n",
    "portfolio = Portfolio(init_value = 100)\n",
    "\n",
    "MAStrat = MovingAverageStrategy(portfolio, True, product_ids, data)\n",
    "MAStrat.run(200)\n",
    "# run_strategy(portfolio, MAStrat, data, currencies, 200)"
   ]
  },
  {
   "cell_type": "code",
   "execution_count": null,
   "metadata": {
    "scrolled": true
   },
   "outputs": [],
   "source": [
    "## EMA Strategy\n",
    "from exponential_moving_average_strategy import ExponentialMovingAverageStrategy\n",
    "\n",
    "# currencies = [\"USD\", \"BTC\", \"ETH\", \"ZEC\"]\n",
    "product_ids = [\"BTC-USD\", \"ETH-USD\", \"ZEC-USD\", \"ETH-BTC\", \"ZEC-BTC\", \"ZEC-ETH\"]\n",
    "data = dl.load_data(datetime(2020, 1, 1),datetime(2021, 12, 1))\n",
    "\n",
    "portfolio = Portfolio(init_value = 100)\n",
    "EMAStrat = ExponentialMovingAverageStrategy(portfolio, True, product_ids, data)\n",
    "EMAStrat.run(200)"
   ]
  },
  {
   "cell_type": "code",
   "execution_count": null,
   "metadata": {},
   "outputs": [],
   "source": [
    "## Buy And Hold Strategy\n",
    "from buy_and_hold import BuyAndHoldStrategy\n",
    "\n",
    "currencies = [\"USD-BTC\"]\n",
    "data = dl.load_data(datetime(2020, 1, 1),datetime(2021, 12, 1))\n",
    "\n",
    "portfolio = Portfolio(init_value = 100)\n",
    "BuyAndHoldStrat = BuyAndHoldStrategy(portfolio, True, currencies, \"BTC\", data)\n",
    "BuyAndHoldStrat.run(-1)"
   ]
  },
  {
   "cell_type": "code",
   "execution_count": null,
   "metadata": {},
   "outputs": [],
   "source": [
    "from buy_and_hold import BuyAndHoldStrategy\n",
    "\n",
    "# currencies = [\"USD\", \"BTC\", \"ETH\", \"ZEC\"]\n",
    "product_ids = [\"BTC-EUR\"]#, \"ETH-USD\", \"ZEC-USD\", \"ETH-BTC\", \"ZEC-BTC\", \"ZEC-ETH\"]\n",
    "#data = dl.load_data(datetime(2020, 1, 1),datetime(2021, 12, 1))\n",
    "\n",
    "portfolio = Portfolio(init_value = 100)\n",
    "BuyAndHoldStrat = BuyAndHoldStrategy(portfolio=portfolio, is_simulation=False, product_ids=product_ids, curr_to_hold=\"BTC\")\n",
    "BuyAndHoldStrat.run(200)"
   ]
  }
 ],
 "metadata": {
  "kernelspec": {
   "display_name": "Python 3",
   "language": "python",
   "name": "python3"
  },
  "language_info": {
   "codemirror_mode": {
    "name": "ipython",
    "version": 3
   },
   "file_extension": ".py",
   "mimetype": "text/x-python",
   "name": "python",
   "nbconvert_exporter": "python",
   "pygments_lexer": "ipython3",
   "version": "3.7.7"
  }
 },
 "nbformat": 4,
 "nbformat_minor": 4
}
