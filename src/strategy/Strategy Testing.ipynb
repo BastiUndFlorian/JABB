{
 "cells": [
  {
   "cell_type": "code",
   "execution_count": null,
   "metadata": {},
   "outputs": [],
   "source": [
    "import pandas as pd\n",
    "import math \n",
    "from datetime import datetime\n",
    "import itertools\n",
    "import time\n",
    "\n",
    "%load_ext autoreload\n",
    "%autoreload 2"
   ]
  },
  {
   "cell_type": "code",
   "execution_count": null,
   "metadata": {},
   "outputs": [],
   "source": [
    "import sys\n",
    "# sys.path is a list of absolute path strings\n",
    "sys.path.append(R'C:\\Users\\spatz\\OneDrive\\Documents\\Projects\\Python Stuff\\JABB\\src')\n",
    "\n",
    "from dataLoader import DataLoader\n",
    "from portfolio import Portfolio"
   ]
  },
  {
   "cell_type": "code",
   "execution_count": null,
   "metadata": {},
   "outputs": [],
   "source": [
    "dl = DataLoader()"
   ]
  },
  {
   "cell_type": "code",
   "execution_count": null,
   "metadata": {
    "scrolled": true
   },
   "outputs": [],
   "source": [
    "## MA strategy\n",
    "from moving_average_strategy import MovingAverageStrategy\n",
    "\n",
    "currencies = [\"USD\", \"BTC\", \"ETH\", \"ZEC\"]\n",
    "product_ids = [\"BTC-USD\", \"ETH-USD\", \"ZEC-USD\", \"ETH-BTC\", \"ZEC-BTC\", \"ZEC-ETH\"]\n",
    "data = dl.load_data(datetime(2020, 1, 1),datetime(2021, 12, 1))\n",
    "\n",
    "portfolio = Portfolio(init_value = 100)\n",
    "\n",
    "MAStrat = MovingAverageStrategy(portfolio, True, product_ids, data)\n",
    "MAStrat.run(200)\n",
    "# run_strategy(portfolio, MAStrat, data, currencies, 200)"
   ]
  },
  {
   "cell_type": "code",
   "execution_count": null,
   "metadata": {
    "scrolled": true
   },
   "outputs": [],
   "source": [
    "## EMA Strategy\n",
    "from exponential_moving_average_strategy import ExponentialMovingAverageStrategy\n",
    "\n",
    "# currencies = [\"USD\", \"BTC\", \"ETH\", \"ZEC\"]\n",
    "product_ids = [\"BTC-USD\", \"ETH-USD\", \"ZEC-USD\", \"ETH-BTC\", \"ZEC-BTC\", \"ZEC-ETH\"]\n",
    "data = dl.load_data(datetime(2020, 1, 1),datetime(2021, 12, 1))\n",
    "\n",
    "portfolio = Portfolio(init_value = 100)\n",
    "EMAStrat = ExponentialMovingAverageStrategy(portfolio, True, product_ids, data)\n",
    "EMAStrat.run(200)"
   ]
  },
  {
   "cell_type": "code",
   "execution_count": null,
   "metadata": {},
   "outputs": [],
   "source": [
    "## Buy And Hold Strategy\n",
    "from buy_and_hold import BuyAndHoldStrategy\n",
    "\n",
    "currencies = [\"USD-BTC\"]\n",
    "data = dl.load_data(datetime(2020, 1, 1),datetime(2021, 12, 1))\n",
    "\n",
    "portfolio = Portfolio(init_value = 100)\n",
    "BuyAndHoldStrat = BuyAndHoldStrategy(portfolio, True, currencies, \"BTC\", data)\n",
    "BuyAndHoldStrat.run(-1)"
   ]
  },
  {
   "cell_type": "code",
   "execution_count": null,
   "metadata": {},
   "outputs": [],
   "source": [
    "from buy_and_hold import BuyAndHoldStrategy\n",
    "\n",
    "# currencies = [\"USD\", \"BTC\", \"ETH\", \"ZEC\"]\n",
    "product_ids = [\"BTC-EUR\"]#, \"ETH-USD\", \"ZEC-USD\", \"ETH-BTC\", \"ZEC-BTC\", \"ZEC-ETH\"]\n",
    "#data = dl.load_data(datetime(2020, 1, 1),datetime(2021, 12, 1))\n",
    "\n",
    "portfolio = Portfolio(init_value = 100)\n",
    "BuyAndHoldStrat = BuyAndHoldStrategy(portfolio=portfolio, is_simulation=False, product_ids=product_ids, curr_to_hold=\"BTC\")\n",
    "BuyAndHoldStrat.run(200)"
   ]
  }
 ],
 "metadata": {
  "kernelspec": {
   "display_name": "Python 3",
   "language": "python",
   "name": "python3"
  },
  "language_info": {
   "codemirror_mode": {
    "name": "ipython",
    "version": 3
   },
   "file_extension": ".py",
   "mimetype": "text/x-python",
   "name": "python",
   "nbconvert_exporter": "python",
   "pygments_lexer": "ipython3",
   "version": "3.7.7"
  }
 },
 "nbformat": 4,
 "nbformat_minor": 4
}
